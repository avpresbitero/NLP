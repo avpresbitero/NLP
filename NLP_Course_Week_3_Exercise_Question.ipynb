{
  "nbformat": 4,
  "nbformat_minor": 0,
  "metadata": {
    "accelerator": "GPU",
    "colab": {
      "name": "NLP Course - Week 3 Exercise Question.ipynb",
      "provenance": [],
      "toc_visible": true
    },
    "kernelspec": {
      "display_name": "Python 3",
      "name": "python3"
    }
  },
  "cells": [
    {
      "cell_type": "code",
      "metadata": {
        "id": "zX4Kg8DUTKWO"
      },
      "source": [
        "#@title Licensed under the Apache License, Version 2.0 (the \"License\");\n",
        "# you may not use this file except in compliance with the License.\n",
        "# You may obtain a copy of the License at\n",
        "#\n",
        "# https://www.apache.org/licenses/LICENSE-2.0\n",
        "#\n",
        "# Unless required by applicable law or agreed to in writing, software\n",
        "# distributed under the License is distributed on an \"AS IS\" BASIS,\n",
        "# WITHOUT WARRANTIES OR CONDITIONS OF ANY KIND, either express or implied.\n",
        "# See the License for the specific language governing permissions and\n",
        "# limitations under the License."
      ],
      "execution_count": 11,
      "outputs": []
    },
    {
      "cell_type": "code",
      "metadata": {
        "id": "hmA6EzkQJ5jt"
      },
      "source": [
        "import json\n",
        "import tensorflow as tf\n",
        "import csv\n",
        "import random\n",
        "import numpy as np\n",
        "\n",
        "from tensorflow.keras.preprocessing.text import Tokenizer\n",
        "from tensorflow.keras.preprocessing.sequence import pad_sequences\n",
        "from tensorflow.keras.utils import to_categorical\n",
        "from tensorflow.keras import regularizers\n",
        "\n",
        "\n",
        "embedding_dim = 100\n",
        "max_length = 16\n",
        "trunc_type='post'\n",
        "padding_type='post'\n",
        "oov_tok = \"<OOV>\"\n",
        "training_size= 20000 # Your dataset size here. Experiment using smaller values (i.e. 16000), but don't forget to train on at least 160000 to see the best effects\n",
        "test_portion=.1\n",
        "\n",
        "corpus = []\n"
      ],
      "execution_count": 9,
      "outputs": []
    },
    {
      "cell_type": "code",
      "metadata": {
        "colab": {
          "base_uri": "https://localhost:8080/"
        },
        "id": "bM0l_dORKqE0",
        "outputId": "9ef552f5-5085-4697-eb6c-02da37c65d06"
      },
      "source": [
        "# Note that I cleaned the Stanford dataset to remove LATIN1 encoding to make it easier for Python CSV reader\n",
        "# You can do that yourself with:\n",
        "# iconv -f LATIN1 -t UTF8 training.1600000.processed.noemoticon.csv -o training_cleaned.csv\n",
        "# I then hosted it on my site to make it easier to use in this notebook\n",
        "\n",
        "!wget --no-check-certificate \\\n",
        "    https://storage.googleapis.com/laurencemoroney-blog.appspot.com/training_cleaned.csv \\\n",
        "    -O /tmp/training_cleaned.csv\n",
        "\n",
        "num_sentences = 0\n",
        "\n",
        "with open(\"/tmp/training_cleaned.csv\") as csvfile:\n",
        "    reader = csv.reader(csvfile, delimiter=',')\n",
        "    for row in reader:\n",
        "      # Your Code here. Create list items where the first item is the text, found in row[5], and the second is the label. Note that the label is a '0' or a '4' in the text. When it's the former, make\n",
        "      # your label to be 0, otherwise 1. Keep a count of the number of sentences in num_sentences\n",
        "        label = 0 if row[0] == '0' else 1\n",
        "        list_item=[row[5], label]\n",
        "        \n",
        "        # YOUR CODE HERE\n",
        "        num_sentences = num_sentences + 1\n",
        "        corpus.append(list_item)\n"
      ],
      "execution_count": 10,
      "outputs": [
        {
          "output_type": "stream",
          "text": [
            "--2021-04-05 06:07:04--  https://storage.googleapis.com/laurencemoroney-blog.appspot.com/training_cleaned.csv\n",
            "Resolving storage.googleapis.com (storage.googleapis.com)... 64.233.189.128, 108.177.97.128, 74.125.204.128, ...\n",
            "Connecting to storage.googleapis.com (storage.googleapis.com)|64.233.189.128|:443... connected.\n",
            "HTTP request sent, awaiting response... 200 OK\n",
            "Length: 238942690 (228M) [application/octet-stream]\n",
            "Saving to: ‘/tmp/training_cleaned.csv’\n",
            "\n",
            "/tmp/training_clean 100%[===================>] 227.87M   184MB/s    in 1.2s    \n",
            "\n",
            "2021-04-05 06:07:06 (184 MB/s) - ‘/tmp/training_cleaned.csv’ saved [238942690/238942690]\n",
            "\n"
          ],
          "name": "stdout"
        }
      ]
    },
    {
      "cell_type": "code",
      "metadata": {
        "colab": {
          "base_uri": "https://localhost:8080/"
        },
        "id": "3kxblBUjEUX-",
        "outputId": "920d472e-9957-46e6-ee05-4a508158f48b"
      },
      "source": [
        "print(num_sentences)\n",
        "print(len(corpus))\n",
        "print(corpus[1])\n",
        "\n",
        "# Expected Output:\n",
        "# 1600000\n",
        "# 1600000\n",
        "# [\"is upset that he can't update his Facebook by texting it... and might cry as a result  School today also. Blah!\", 0]"
      ],
      "execution_count": 11,
      "outputs": [
        {
          "output_type": "stream",
          "text": [
            "1600000\n",
            "1600000\n",
            "[\"is upset that he can't update his Facebook by texting it... and might cry as a result  School today also. Blah!\", 0]\n"
          ],
          "name": "stdout"
        }
      ]
    },
    {
      "cell_type": "code",
      "metadata": {
        "id": "ohOGz24lsNAD"
      },
      "source": [
        "sentences=[]\n",
        "labels=[]\n",
        "random.shuffle(corpus)\n",
        "for x in range(training_size):\n",
        "    sentences.append(corpus[x][0])# YOUR CODE HERE)\n",
        "    labels.append(corpus[x][1])# YOUR CODE HERE)\n",
        "\n",
        "\n",
        "tokenizer = Tokenizer()\n",
        "tokenizer.fit_on_texts(sentences)# YOUR CODE HERE)\n",
        "\n",
        "word_index = tokenizer.word_index\n",
        "vocab_size=len(word_index)# YOUR CODE HERE)\n",
        "\n",
        "sequences = tokenizer.texts_to_sequences(sentences)# YOUR CODE HERE)\n",
        "padded = pad_sequences(sequences, maxlen=max_length, truncating=trunc_type)# YOUR CODE HERE)\n",
        "\n",
        "split = int(test_portion * training_size)\n",
        "\n",
        "test_sequences = padded[0:split]# YOUR CODE HERE]\n",
        "training_sequences = padded[split:training_size]# YOUR CODE HERE]\n",
        "test_labels = labels[0:split]# YOUR CODE HERE]\n",
        "training_labels = labels[split:training_size]# YOUR CODE HERE]"
      ],
      "execution_count": 12,
      "outputs": []
    },
    {
      "cell_type": "code",
      "metadata": {
        "colab": {
          "base_uri": "https://localhost:8080/"
        },
        "id": "gIrtRem1En3N",
        "outputId": "78e374f7-65e1-43ac-ed41-06ef718b59af"
      },
      "source": [
        "print(vocab_size)\n",
        "print(word_index['i'])"
      ],
      "execution_count": 13,
      "outputs": [
        {
          "output_type": "stream",
          "text": [
            "31291\n",
            "1\n"
          ],
          "name": "stdout"
        }
      ]
    },
    {
      "cell_type": "code",
      "metadata": {
        "colab": {
          "base_uri": "https://localhost:8080/"
        },
        "id": "C1zdgJkusRh0",
        "outputId": "98c5037a-bcdb-4db1-857b-516352e41e78"
      },
      "source": [
        "# Note this is the 100 dimension version of GloVe from Stanford\n",
        "# I unzipped and hosted it on my site to make this notebook easier\n",
        "!wget --no-check-certificate \\\n",
        "    https://storage.googleapis.com/laurencemoroney-blog.appspot.com/glove.6B.100d.txt \\\n",
        "    -O /tmp/glove.6B.100d.txt\n",
        "embeddings_index = {};\n",
        "with open('/tmp/glove.6B.100d.txt') as f:\n",
        "    for line in f:\n",
        "        values = line.split();\n",
        "        word = values[0];\n",
        "        coefs = np.asarray(values[1:], dtype='float32');\n",
        "        embeddings_index[word] = coefs;\n",
        "\n",
        "embeddings_matrix = np.zeros((vocab_size+1, embedding_dim));\n",
        "for word, i in word_index.items():\n",
        "    embedding_vector = embeddings_index.get(word);\n",
        "    if embedding_vector is not None:\n",
        "        embeddings_matrix[i] = embedding_vector;"
      ],
      "execution_count": 14,
      "outputs": [
        {
          "output_type": "stream",
          "text": [
            "--2021-04-05 06:07:18--  https://storage.googleapis.com/laurencemoroney-blog.appspot.com/glove.6B.100d.txt\n",
            "Resolving storage.googleapis.com (storage.googleapis.com)... 108.177.125.128, 74.125.203.128, 64.233.189.128, ...\n",
            "Connecting to storage.googleapis.com (storage.googleapis.com)|108.177.125.128|:443... connected.\n",
            "HTTP request sent, awaiting response... 404 Not Found\n",
            "2021-04-05 06:07:18 ERROR 404: Not Found.\n",
            "\n"
          ],
          "name": "stdout"
        }
      ]
    },
    {
      "cell_type": "code",
      "metadata": {
        "colab": {
          "base_uri": "https://localhost:8080/"
        },
        "id": "71NLk_lpFLNt",
        "outputId": "a84900dd-5fb8-441b-de54-a6ab03e79f7d"
      },
      "source": [
        "print(len(embeddings_matrix))\n",
        "# Expected Output\n",
        "# 138859"
      ],
      "execution_count": 15,
      "outputs": [
        {
          "output_type": "stream",
          "text": [
            "31292\n"
          ],
          "name": "stdout"
        }
      ]
    },
    {
      "cell_type": "code",
      "metadata": {
        "colab": {
          "base_uri": "https://localhost:8080/"
        },
        "id": "iKKvbuEBOGFz",
        "outputId": "ea187f30-2906-499d-a61d-66d7f285a1d0"
      },
      "source": [
        "model = tf.keras.Sequential([\n",
        "    # tf.keras.layers.Embedding(vocab_size+1, embedding_dim, input_length=max_length, weights=[embeddings_matrix], trainable=True),\n",
        "    tf.keras.layers.Embedding(vocab_size+1, embedding_dim, input_length=max_length),\n",
        "    tf.keras.layers.Dropout(0.2),\n",
        "    tf.keras.layers.Conv1D(64, 5, activation='relu'),\n",
        "    tf.keras.layers.MaxPooling1D(pool_size=4),\n",
        "    tf.keras.layers.Bidirectional(tf.keras.layers.LSTM(64, return_sequences=True)),\n",
        "    tf.keras.layers.Bidirectional(tf.keras.layers.LSTM(32)),\n",
        "    tf.keras.layers.Dense(32, activation='relu'),\n",
        "    tf.keras.layers.Dense(1, activation='sigmoid')\n",
        "])\n",
        "model.compile(loss='binary_crossentropy',optimizer='adam',metrics=['accuracy'])\n",
        "model.summary()\n",
        "\n",
        "training_padded = np.array(training_sequences)\n",
        "training_labels = np.array(training_labels)\n",
        "testing_padded = np.array(test_sequences)\n",
        "testing_labels = np.array(test_labels)\n",
        "\n",
        "num_epochs = 50\n",
        "history = model.fit(training_padded, training_labels, epochs=num_epochs, validation_data=(testing_padded, testing_labels), verbose=2)\n",
        "\n",
        "print(\"Training Complete\")\n"
      ],
      "execution_count": 16,
      "outputs": [
        {
          "output_type": "stream",
          "text": [
            "Model: \"sequential\"\n",
            "_________________________________________________________________\n",
            "Layer (type)                 Output Shape              Param #   \n",
            "=================================================================\n",
            "embedding (Embedding)        (None, 16, 100)           3129200   \n",
            "_________________________________________________________________\n",
            "dropout (Dropout)            (None, 16, 100)           0         \n",
            "_________________________________________________________________\n",
            "conv1d (Conv1D)              (None, 12, 64)            32064     \n",
            "_________________________________________________________________\n",
            "max_pooling1d (MaxPooling1D) (None, 3, 64)             0         \n",
            "_________________________________________________________________\n",
            "bidirectional (Bidirectional (None, 3, 128)            66048     \n",
            "_________________________________________________________________\n",
            "bidirectional_1 (Bidirection (None, 64)                41216     \n",
            "_________________________________________________________________\n",
            "dense (Dense)                (None, 32)                2080      \n",
            "_________________________________________________________________\n",
            "dense_1 (Dense)              (None, 1)                 33        \n",
            "=================================================================\n",
            "Total params: 3,270,641\n",
            "Trainable params: 3,270,641\n",
            "Non-trainable params: 0\n",
            "_________________________________________________________________\n",
            "Epoch 1/50\n",
            "563/563 - 52s - loss: 0.5754 - accuracy: 0.6895 - val_loss: 0.5197 - val_accuracy: 0.7495\n",
            "Epoch 2/50\n",
            "563/563 - 16s - loss: 0.3592 - accuracy: 0.8433 - val_loss: 0.5897 - val_accuracy: 0.7130\n",
            "Epoch 3/50\n",
            "563/563 - 16s - loss: 0.1267 - accuracy: 0.9546 - val_loss: 0.9057 - val_accuracy: 0.7100\n",
            "Epoch 4/50\n",
            "563/563 - 16s - loss: 0.0459 - accuracy: 0.9844 - val_loss: 1.0567 - val_accuracy: 0.6960\n",
            "Epoch 5/50\n",
            "563/563 - 16s - loss: 0.0241 - accuracy: 0.9921 - val_loss: 1.2882 - val_accuracy: 0.6995\n",
            "Epoch 6/50\n",
            "563/563 - 16s - loss: 0.0191 - accuracy: 0.9937 - val_loss: 1.3668 - val_accuracy: 0.7060\n",
            "Epoch 7/50\n",
            "563/563 - 16s - loss: 0.0099 - accuracy: 0.9972 - val_loss: 1.5316 - val_accuracy: 0.7045\n",
            "Epoch 8/50\n",
            "563/563 - 16s - loss: 0.0147 - accuracy: 0.9946 - val_loss: 1.4926 - val_accuracy: 0.7025\n",
            "Epoch 9/50\n",
            "563/563 - 17s - loss: 0.0116 - accuracy: 0.9963 - val_loss: 1.3152 - val_accuracy: 0.6890\n",
            "Epoch 10/50\n",
            "563/563 - 16s - loss: 0.0087 - accuracy: 0.9974 - val_loss: 1.9199 - val_accuracy: 0.6945\n",
            "Epoch 11/50\n",
            "563/563 - 16s - loss: 0.0095 - accuracy: 0.9968 - val_loss: 1.5623 - val_accuracy: 0.7045\n",
            "Epoch 12/50\n",
            "563/563 - 16s - loss: 0.0052 - accuracy: 0.9983 - val_loss: 1.6990 - val_accuracy: 0.7030\n",
            "Epoch 13/50\n",
            "563/563 - 16s - loss: 0.0071 - accuracy: 0.9977 - val_loss: 1.7427 - val_accuracy: 0.6965\n",
            "Epoch 14/50\n",
            "563/563 - 17s - loss: 0.0065 - accuracy: 0.9974 - val_loss: 1.7953 - val_accuracy: 0.6935\n",
            "Epoch 15/50\n",
            "563/563 - 16s - loss: 0.0063 - accuracy: 0.9980 - val_loss: 1.8499 - val_accuracy: 0.6970\n",
            "Epoch 16/50\n",
            "563/563 - 16s - loss: 0.0057 - accuracy: 0.9979 - val_loss: 2.0744 - val_accuracy: 0.6975\n",
            "Epoch 17/50\n",
            "563/563 - 16s - loss: 0.0043 - accuracy: 0.9987 - val_loss: 1.8868 - val_accuracy: 0.7070\n",
            "Epoch 18/50\n",
            "563/563 - 16s - loss: 0.0048 - accuracy: 0.9979 - val_loss: 2.3362 - val_accuracy: 0.7010\n",
            "Epoch 19/50\n",
            "563/563 - 16s - loss: 0.0061 - accuracy: 0.9981 - val_loss: 1.9034 - val_accuracy: 0.6940\n",
            "Epoch 20/50\n",
            "563/563 - 16s - loss: 0.0068 - accuracy: 0.9978 - val_loss: 1.9942 - val_accuracy: 0.7035\n",
            "Epoch 21/50\n",
            "563/563 - 16s - loss: 0.0043 - accuracy: 0.9986 - val_loss: 2.1582 - val_accuracy: 0.7040\n",
            "Epoch 22/50\n",
            "563/563 - 16s - loss: 0.0029 - accuracy: 0.9993 - val_loss: 1.9645 - val_accuracy: 0.6935\n",
            "Epoch 23/50\n",
            "563/563 - 16s - loss: 0.0019 - accuracy: 0.9992 - val_loss: 2.6148 - val_accuracy: 0.7105\n",
            "Epoch 24/50\n",
            "563/563 - 16s - loss: 0.0032 - accuracy: 0.9992 - val_loss: 2.2570 - val_accuracy: 0.7025\n",
            "Epoch 25/50\n",
            "563/563 - 16s - loss: 0.0012 - accuracy: 0.9995 - val_loss: 2.6975 - val_accuracy: 0.7015\n",
            "Epoch 26/50\n",
            "563/563 - 16s - loss: 0.0046 - accuracy: 0.9986 - val_loss: 1.8396 - val_accuracy: 0.6915\n",
            "Epoch 27/50\n",
            "563/563 - 17s - loss: 0.0049 - accuracy: 0.9984 - val_loss: 2.0901 - val_accuracy: 0.6965\n",
            "Epoch 28/50\n",
            "563/563 - 17s - loss: 0.0037 - accuracy: 0.9988 - val_loss: 1.9110 - val_accuracy: 0.6980\n",
            "Epoch 29/50\n",
            "563/563 - 17s - loss: 0.0028 - accuracy: 0.9990 - val_loss: 1.9857 - val_accuracy: 0.6975\n",
            "Epoch 30/50\n",
            "563/563 - 17s - loss: 0.0019 - accuracy: 0.9993 - val_loss: 1.9481 - val_accuracy: 0.6905\n",
            "Epoch 31/50\n",
            "563/563 - 16s - loss: 0.0015 - accuracy: 0.9996 - val_loss: 2.3136 - val_accuracy: 0.6905\n",
            "Epoch 32/50\n",
            "563/563 - 17s - loss: 3.4480e-04 - accuracy: 0.9998 - val_loss: 2.7650 - val_accuracy: 0.6960\n",
            "Epoch 33/50\n",
            "563/563 - 17s - loss: 0.0011 - accuracy: 0.9997 - val_loss: 2.7394 - val_accuracy: 0.6980\n",
            "Epoch 34/50\n",
            "563/563 - 16s - loss: 0.0032 - accuracy: 0.9988 - val_loss: 1.8629 - val_accuracy: 0.6920\n",
            "Epoch 35/50\n",
            "563/563 - 16s - loss: 0.0029 - accuracy: 0.9992 - val_loss: 2.1319 - val_accuracy: 0.6850\n",
            "Epoch 36/50\n",
            "563/563 - 16s - loss: 0.0020 - accuracy: 0.9996 - val_loss: 2.0750 - val_accuracy: 0.6755\n",
            "Epoch 37/50\n",
            "563/563 - 16s - loss: 0.0025 - accuracy: 0.9991 - val_loss: 2.3048 - val_accuracy: 0.6895\n",
            "Epoch 38/50\n",
            "563/563 - 16s - loss: 9.5925e-04 - accuracy: 0.9997 - val_loss: 2.3507 - val_accuracy: 0.6905\n",
            "Epoch 39/50\n",
            "563/563 - 17s - loss: 0.0016 - accuracy: 0.9996 - val_loss: 2.1588 - val_accuracy: 0.6815\n",
            "Epoch 40/50\n",
            "563/563 - 17s - loss: 0.0013 - accuracy: 0.9994 - val_loss: 2.7192 - val_accuracy: 0.6880\n",
            "Epoch 41/50\n",
            "563/563 - 17s - loss: 0.0018 - accuracy: 0.9993 - val_loss: 2.3179 - val_accuracy: 0.6995\n",
            "Epoch 42/50\n",
            "563/563 - 17s - loss: 0.0017 - accuracy: 0.9994 - val_loss: 2.1760 - val_accuracy: 0.6815\n",
            "Epoch 43/50\n",
            "563/563 - 17s - loss: 0.0021 - accuracy: 0.9992 - val_loss: 2.4791 - val_accuracy: 0.6960\n",
            "Epoch 44/50\n",
            "563/563 - 17s - loss: 0.0019 - accuracy: 0.9996 - val_loss: 2.0949 - val_accuracy: 0.6945\n",
            "Epoch 45/50\n",
            "563/563 - 17s - loss: 0.0012 - accuracy: 0.9996 - val_loss: 2.8499 - val_accuracy: 0.6770\n",
            "Epoch 46/50\n",
            "563/563 - 17s - loss: 8.5015e-04 - accuracy: 0.9998 - val_loss: 2.4708 - val_accuracy: 0.7040\n",
            "Epoch 47/50\n",
            "563/563 - 17s - loss: 8.7869e-04 - accuracy: 0.9997 - val_loss: 2.4567 - val_accuracy: 0.6780\n",
            "Epoch 48/50\n",
            "563/563 - 17s - loss: 0.0032 - accuracy: 0.9987 - val_loss: 1.9400 - val_accuracy: 0.6975\n",
            "Epoch 49/50\n",
            "563/563 - 17s - loss: 5.1870e-04 - accuracy: 0.9998 - val_loss: 2.8712 - val_accuracy: 0.6980\n",
            "Epoch 50/50\n",
            "563/563 - 17s - loss: 3.1434e-04 - accuracy: 0.9998 - val_loss: 3.0340 - val_accuracy: 0.6935\n",
            "Training Complete\n"
          ],
          "name": "stdout"
        }
      ]
    },
    {
      "cell_type": "code",
      "metadata": {
        "colab": {
          "base_uri": "https://localhost:8080/",
          "height": 606
        },
        "id": "qxju4ItJKO8F",
        "outputId": "bbe6b28c-7dd9-441f-86f6-4fdf2e997f60"
      },
      "source": [
        "import matplotlib.image  as mpimg\n",
        "import matplotlib.pyplot as plt\n",
        "\n",
        "#-----------------------------------------------------------\n",
        "# Retrieve a list of list results on training and test data\n",
        "# sets for each training epoch\n",
        "#-----------------------------------------------------------\n",
        "acc=history.history['accuracy']\n",
        "val_acc=history.history['val_accuracy']\n",
        "loss=history.history['loss']\n",
        "val_loss=history.history['val_loss']\n",
        "\n",
        "epochs=range(len(acc)) # Get number of epochs\n",
        "\n",
        "#------------------------------------------------\n",
        "# Plot training and validation accuracy per epoch\n",
        "#------------------------------------------------\n",
        "plt.plot(epochs, acc, 'r')\n",
        "plt.plot(epochs, val_acc, 'b')\n",
        "plt.title('Training and validation accuracy')\n",
        "plt.xlabel(\"Epochs\")\n",
        "plt.ylabel(\"Accuracy\")\n",
        "plt.legend([\"Accuracy\", \"Validation Accuracy\"])\n",
        "\n",
        "plt.figure()\n",
        "\n",
        "#------------------------------------------------\n",
        "# Plot training and validation loss per epoch\n",
        "#------------------------------------------------\n",
        "plt.plot(epochs, loss, 'r')\n",
        "plt.plot(epochs, val_loss, 'b')\n",
        "plt.title('Training and validation loss')\n",
        "plt.xlabel(\"Epochs\")\n",
        "plt.ylabel(\"Loss\")\n",
        "plt.legend([\"Loss\", \"Validation Loss\"])\n",
        "\n",
        "plt.figure()\n",
        "\n",
        "\n",
        "# Expected Output\n",
        "# A chart where the validation loss does not increase sharply!"
      ],
      "execution_count": 18,
      "outputs": [
        {
          "output_type": "execute_result",
          "data": {
            "text/plain": [
              "<Figure size 432x288 with 0 Axes>"
            ]
          },
          "metadata": {
            "tags": []
          },
          "execution_count": 18
        },
        {
          "output_type": "display_data",
          "data": {
            "image/png": "[encoded data removed]",
            "text/plain": [
              "<Figure size 432x288 with 1 Axes>"
            ]
          },
          "metadata": {
            "tags": [],
            "needs_background": "light"
          }
        },
        {
          "output_type": "display_data",
          "data": {
            "image/png": "[encoded data removed]",
            "text/plain": [
              "<Figure size 432x288 with 1 Axes>"
            ]
          },
          "metadata": {
            "tags": [],
            "needs_background": "light"
          }
        },
        {
          "output_type": "display_data",
          "data": {
            "text/plain": [
              "<Figure size 432x288 with 0 Axes>"
            ]
          },
          "metadata": {
            "tags": []
          }
        }
      ]
    },
    {
      "cell_type": "code",
      "metadata": {
        "id": "P30ew6_dp-rY"
      },
      "source": [],
      "execution_count": null,
      "outputs": []
    }
  ]
}